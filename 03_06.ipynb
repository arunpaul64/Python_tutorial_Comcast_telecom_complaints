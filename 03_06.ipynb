{
 "cells": [
  {
   "cell_type": "code",
   "execution_count": 3,
   "id": "c3d6cc5e",
   "metadata": {},
   "outputs": [],
   "source": [
    "import seaborn as sns\n",
    "import matplotlib.pyplot as plt\n",
    "import pandas as pd\n",
    "import numpy as np\n",
    "import os\n",
    "from sklearn.model_selection import train_test_split\n",
    "from sklearn.impute import SimpleImputer\n",
    "from sklearn.compose import ColumnTransformer"
   ]
  },
  {
   "cell_type": "code",
   "execution_count": 5,
   "id": "6d2f5799",
   "metadata": {},
   "outputs": [
    {
     "data": {
      "text/plain": [
       "'C:\\\\Users\\\\arunp\\\\mytest1'"
      ]
     },
     "execution_count": 5,
     "metadata": {},
     "output_type": "execute_result"
    }
   ],
   "source": [
    "os.getcwd()"
   ]
  },
  {
   "cell_type": "code",
   "execution_count": 8,
   "id": "1e13cbf8",
   "metadata": {},
   "outputs": [],
   "source": [
    "df=pd.read_csv(\"Comcast_telecom_complaints_data.csv\")"
   ]
  },
  {
   "cell_type": "code",
   "execution_count": 9,
   "id": "ec3c8a1a",
   "metadata": {},
   "outputs": [
    {
     "data": {
      "text/html": [
       "<div>\n",
       "<style scoped>\n",
       "    .dataframe tbody tr th:only-of-type {\n",
       "        vertical-align: middle;\n",
       "    }\n",
       "\n",
       "    .dataframe tbody tr th {\n",
       "        vertical-align: top;\n",
       "    }\n",
       "\n",
       "    .dataframe thead th {\n",
       "        text-align: right;\n",
       "    }\n",
       "</style>\n",
       "<table border=\"1\" class=\"dataframe\">\n",
       "  <thead>\n",
       "    <tr style=\"text-align: right;\">\n",
       "      <th></th>\n",
       "      <th>Ticket #</th>\n",
       "      <th>Customer Complaint</th>\n",
       "      <th>Date</th>\n",
       "      <th>Date_month_year</th>\n",
       "      <th>Time</th>\n",
       "      <th>Received Via</th>\n",
       "      <th>City</th>\n",
       "      <th>State</th>\n",
       "      <th>Zip code</th>\n",
       "      <th>Status</th>\n",
       "      <th>Filing on Behalf of Someone</th>\n",
       "    </tr>\n",
       "  </thead>\n",
       "  <tbody>\n",
       "    <tr>\n",
       "      <th>0</th>\n",
       "      <td>250635</td>\n",
       "      <td>Comcast Cable Internet Speeds</td>\n",
       "      <td>22-04-15</td>\n",
       "      <td>22-Apr-15</td>\n",
       "      <td>3:53:50 PM</td>\n",
       "      <td>Customer Care Call</td>\n",
       "      <td>Abingdon</td>\n",
       "      <td>Maryland</td>\n",
       "      <td>21009</td>\n",
       "      <td>Closed</td>\n",
       "      <td>No</td>\n",
       "    </tr>\n",
       "    <tr>\n",
       "      <th>1</th>\n",
       "      <td>223441</td>\n",
       "      <td>Payment disappear - service got disconnected</td>\n",
       "      <td>04-08-15</td>\n",
       "      <td>04-Aug-15</td>\n",
       "      <td>10:22:56 AM</td>\n",
       "      <td>Internet</td>\n",
       "      <td>Acworth</td>\n",
       "      <td>Georgia</td>\n",
       "      <td>30102</td>\n",
       "      <td>Closed</td>\n",
       "      <td>No</td>\n",
       "    </tr>\n",
       "    <tr>\n",
       "      <th>2</th>\n",
       "      <td>242732</td>\n",
       "      <td>Speed and Service</td>\n",
       "      <td>18-04-15</td>\n",
       "      <td>18-Apr-15</td>\n",
       "      <td>9:55:47 AM</td>\n",
       "      <td>Internet</td>\n",
       "      <td>Acworth</td>\n",
       "      <td>Georgia</td>\n",
       "      <td>30101</td>\n",
       "      <td>Closed</td>\n",
       "      <td>Yes</td>\n",
       "    </tr>\n",
       "    <tr>\n",
       "      <th>3</th>\n",
       "      <td>277946</td>\n",
       "      <td>Comcast Imposed a New Usage Cap of 300GB that ...</td>\n",
       "      <td>05-07-15</td>\n",
       "      <td>05-Jul-15</td>\n",
       "      <td>11:59:35 AM</td>\n",
       "      <td>Internet</td>\n",
       "      <td>Acworth</td>\n",
       "      <td>Georgia</td>\n",
       "      <td>30101</td>\n",
       "      <td>Open</td>\n",
       "      <td>Yes</td>\n",
       "    </tr>\n",
       "    <tr>\n",
       "      <th>4</th>\n",
       "      <td>307175</td>\n",
       "      <td>Comcast not working and no service to boot</td>\n",
       "      <td>26-05-15</td>\n",
       "      <td>26-May-15</td>\n",
       "      <td>1:25:26 PM</td>\n",
       "      <td>Internet</td>\n",
       "      <td>Acworth</td>\n",
       "      <td>Georgia</td>\n",
       "      <td>30101</td>\n",
       "      <td>Solved</td>\n",
       "      <td>No</td>\n",
       "    </tr>\n",
       "  </tbody>\n",
       "</table>\n",
       "</div>"
      ],
      "text/plain": [
       "  Ticket #                                 Customer Complaint      Date  \\\n",
       "0   250635                      Comcast Cable Internet Speeds  22-04-15   \n",
       "1   223441       Payment disappear - service got disconnected  04-08-15   \n",
       "2   242732                                  Speed and Service  18-04-15   \n",
       "3   277946  Comcast Imposed a New Usage Cap of 300GB that ...  05-07-15   \n",
       "4   307175         Comcast not working and no service to boot  26-05-15   \n",
       "\n",
       "  Date_month_year         Time        Received Via      City     State  \\\n",
       "0       22-Apr-15   3:53:50 PM  Customer Care Call  Abingdon  Maryland   \n",
       "1       04-Aug-15  10:22:56 AM            Internet   Acworth   Georgia   \n",
       "2       18-Apr-15   9:55:47 AM            Internet   Acworth   Georgia   \n",
       "3       05-Jul-15  11:59:35 AM            Internet   Acworth   Georgia   \n",
       "4       26-May-15   1:25:26 PM            Internet   Acworth   Georgia   \n",
       "\n",
       "   Zip code  Status Filing on Behalf of Someone  \n",
       "0     21009  Closed                          No  \n",
       "1     30102  Closed                          No  \n",
       "2     30101  Closed                         Yes  \n",
       "3     30101    Open                         Yes  \n",
       "4     30101  Solved                          No  "
      ]
     },
     "execution_count": 9,
     "metadata": {},
     "output_type": "execute_result"
    }
   ],
   "source": [
    "df.head()"
   ]
  },
  {
   "cell_type": "code",
   "execution_count": 10,
   "id": "7ebd4d00",
   "metadata": {},
   "outputs": [
    {
     "name": "stdout",
     "output_type": "stream",
     "text": [
      "<class 'pandas.core.frame.DataFrame'>\n",
      "RangeIndex: 2224 entries, 0 to 2223\n",
      "Data columns (total 11 columns):\n",
      " #   Column                       Non-Null Count  Dtype \n",
      "---  ------                       --------------  ----- \n",
      " 0   Ticket #                     2224 non-null   object\n",
      " 1   Customer Complaint           2224 non-null   object\n",
      " 2   Date                         2224 non-null   object\n",
      " 3   Date_month_year              2224 non-null   object\n",
      " 4   Time                         2224 non-null   object\n",
      " 5   Received Via                 2224 non-null   object\n",
      " 6   City                         2224 non-null   object\n",
      " 7   State                        2224 non-null   object\n",
      " 8   Zip code                     2224 non-null   int64 \n",
      " 9   Status                       2224 non-null   object\n",
      " 10  Filing on Behalf of Someone  2224 non-null   object\n",
      "dtypes: int64(1), object(10)\n",
      "memory usage: 191.2+ KB\n"
     ]
    }
   ],
   "source": [
    "df.info()"
   ]
  },
  {
   "cell_type": "code",
   "execution_count": 11,
   "id": "2cf083b8",
   "metadata": {},
   "outputs": [
    {
     "data": {
      "text/plain": [
       "Ticket #                       0\n",
       "Customer Complaint             0\n",
       "Date                           0\n",
       "Date_month_year                0\n",
       "Time                           0\n",
       "Received Via                   0\n",
       "City                           0\n",
       "State                          0\n",
       "Zip code                       0\n",
       "Status                         0\n",
       "Filing on Behalf of Someone    0\n",
       "dtype: int64"
      ]
     },
     "execution_count": 11,
     "metadata": {},
     "output_type": "execute_result"
    }
   ],
   "source": [
    "df.isnull().sum()"
   ]
  },
  {
   "cell_type": "code",
   "execution_count": 12,
   "id": "ad23f91a",
   "metadata": {},
   "outputs": [],
   "source": [
    "df=df.drop([\"Ticket #\",\"Time\",],axis=1)"
   ]
  },
  {
   "cell_type": "code",
   "execution_count": 13,
   "id": "a22db6fc",
   "metadata": {},
   "outputs": [
    {
     "data": {
      "text/html": [
       "<div>\n",
       "<style scoped>\n",
       "    .dataframe tbody tr th:only-of-type {\n",
       "        vertical-align: middle;\n",
       "    }\n",
       "\n",
       "    .dataframe tbody tr th {\n",
       "        vertical-align: top;\n",
       "    }\n",
       "\n",
       "    .dataframe thead th {\n",
       "        text-align: right;\n",
       "    }\n",
       "</style>\n",
       "<table border=\"1\" class=\"dataframe\">\n",
       "  <thead>\n",
       "    <tr style=\"text-align: right;\">\n",
       "      <th></th>\n",
       "      <th>Customer Complaint</th>\n",
       "      <th>Date</th>\n",
       "      <th>Date_month_year</th>\n",
       "      <th>Received Via</th>\n",
       "      <th>City</th>\n",
       "      <th>State</th>\n",
       "      <th>Zip code</th>\n",
       "      <th>Status</th>\n",
       "      <th>Filing on Behalf of Someone</th>\n",
       "    </tr>\n",
       "  </thead>\n",
       "  <tbody>\n",
       "    <tr>\n",
       "      <th>0</th>\n",
       "      <td>Comcast Cable Internet Speeds</td>\n",
       "      <td>22-04-15</td>\n",
       "      <td>22-Apr-15</td>\n",
       "      <td>Customer Care Call</td>\n",
       "      <td>Abingdon</td>\n",
       "      <td>Maryland</td>\n",
       "      <td>21009</td>\n",
       "      <td>Closed</td>\n",
       "      <td>No</td>\n",
       "    </tr>\n",
       "    <tr>\n",
       "      <th>1</th>\n",
       "      <td>Payment disappear - service got disconnected</td>\n",
       "      <td>04-08-15</td>\n",
       "      <td>04-Aug-15</td>\n",
       "      <td>Internet</td>\n",
       "      <td>Acworth</td>\n",
       "      <td>Georgia</td>\n",
       "      <td>30102</td>\n",
       "      <td>Closed</td>\n",
       "      <td>No</td>\n",
       "    </tr>\n",
       "    <tr>\n",
       "      <th>2</th>\n",
       "      <td>Speed and Service</td>\n",
       "      <td>18-04-15</td>\n",
       "      <td>18-Apr-15</td>\n",
       "      <td>Internet</td>\n",
       "      <td>Acworth</td>\n",
       "      <td>Georgia</td>\n",
       "      <td>30101</td>\n",
       "      <td>Closed</td>\n",
       "      <td>Yes</td>\n",
       "    </tr>\n",
       "    <tr>\n",
       "      <th>3</th>\n",
       "      <td>Comcast Imposed a New Usage Cap of 300GB that ...</td>\n",
       "      <td>05-07-15</td>\n",
       "      <td>05-Jul-15</td>\n",
       "      <td>Internet</td>\n",
       "      <td>Acworth</td>\n",
       "      <td>Georgia</td>\n",
       "      <td>30101</td>\n",
       "      <td>Open</td>\n",
       "      <td>Yes</td>\n",
       "    </tr>\n",
       "    <tr>\n",
       "      <th>4</th>\n",
       "      <td>Comcast not working and no service to boot</td>\n",
       "      <td>26-05-15</td>\n",
       "      <td>26-May-15</td>\n",
       "      <td>Internet</td>\n",
       "      <td>Acworth</td>\n",
       "      <td>Georgia</td>\n",
       "      <td>30101</td>\n",
       "      <td>Solved</td>\n",
       "      <td>No</td>\n",
       "    </tr>\n",
       "  </tbody>\n",
       "</table>\n",
       "</div>"
      ],
      "text/plain": [
       "                                  Customer Complaint      Date  \\\n",
       "0                      Comcast Cable Internet Speeds  22-04-15   \n",
       "1       Payment disappear - service got disconnected  04-08-15   \n",
       "2                                  Speed and Service  18-04-15   \n",
       "3  Comcast Imposed a New Usage Cap of 300GB that ...  05-07-15   \n",
       "4         Comcast not working and no service to boot  26-05-15   \n",
       "\n",
       "  Date_month_year        Received Via      City     State  Zip code  Status  \\\n",
       "0       22-Apr-15  Customer Care Call  Abingdon  Maryland     21009  Closed   \n",
       "1       04-Aug-15            Internet   Acworth   Georgia     30102  Closed   \n",
       "2       18-Apr-15            Internet   Acworth   Georgia     30101  Closed   \n",
       "3       05-Jul-15            Internet   Acworth   Georgia     30101    Open   \n",
       "4       26-May-15            Internet   Acworth   Georgia     30101  Solved   \n",
       "\n",
       "  Filing on Behalf of Someone  \n",
       "0                          No  \n",
       "1                          No  \n",
       "2                         Yes  \n",
       "3                         Yes  \n",
       "4                          No  "
      ]
     },
     "execution_count": 13,
     "metadata": {},
     "output_type": "execute_result"
    }
   ],
   "source": [
    "df.head()"
   ]
  },
  {
   "cell_type": "code",
   "execution_count": 15,
   "id": "588cc7f3",
   "metadata": {},
   "outputs": [],
   "source": [
    "df['Date_month_year']=df['Date_month_year'].apply(pd.to_datetime)"
   ]
  },
  {
   "cell_type": "code",
   "execution_count": 16,
   "id": "58caf0d7",
   "metadata": {},
   "outputs": [
    {
     "name": "stdout",
     "output_type": "stream",
     "text": [
      "<class 'pandas.core.frame.DataFrame'>\n",
      "RangeIndex: 2224 entries, 0 to 2223\n",
      "Data columns (total 9 columns):\n",
      " #   Column                       Non-Null Count  Dtype         \n",
      "---  ------                       --------------  -----         \n",
      " 0   Customer Complaint           2224 non-null   object        \n",
      " 1   Date                         2224 non-null   object        \n",
      " 2   Date_month_year              2224 non-null   datetime64[ns]\n",
      " 3   Received Via                 2224 non-null   object        \n",
      " 4   City                         2224 non-null   object        \n",
      " 5   State                        2224 non-null   object        \n",
      " 6   Zip code                     2224 non-null   int64         \n",
      " 7   Status                       2224 non-null   object        \n",
      " 8   Filing on Behalf of Someone  2224 non-null   object        \n",
      "dtypes: datetime64[ns](1), int64(1), object(7)\n",
      "memory usage: 156.5+ KB\n"
     ]
    }
   ],
   "source": [
    "df.info()"
   ]
  },
  {
   "cell_type": "code",
   "execution_count": 17,
   "id": "8dd9b7a9",
   "metadata": {},
   "outputs": [],
   "source": [
    "df=df.set_index(\"Date_month_year\")"
   ]
  },
  {
   "cell_type": "code",
   "execution_count": 18,
   "id": "763a8752",
   "metadata": {},
   "outputs": [
    {
     "data": {
      "text/html": [
       "<div>\n",
       "<style scoped>\n",
       "    .dataframe tbody tr th:only-of-type {\n",
       "        vertical-align: middle;\n",
       "    }\n",
       "\n",
       "    .dataframe tbody tr th {\n",
       "        vertical-align: top;\n",
       "    }\n",
       "\n",
       "    .dataframe thead th {\n",
       "        text-align: right;\n",
       "    }\n",
       "</style>\n",
       "<table border=\"1\" class=\"dataframe\">\n",
       "  <thead>\n",
       "    <tr style=\"text-align: right;\">\n",
       "      <th></th>\n",
       "      <th>Customer Complaint</th>\n",
       "      <th>Date</th>\n",
       "      <th>Received Via</th>\n",
       "      <th>City</th>\n",
       "      <th>State</th>\n",
       "      <th>Zip code</th>\n",
       "      <th>Status</th>\n",
       "      <th>Filing on Behalf of Someone</th>\n",
       "    </tr>\n",
       "    <tr>\n",
       "      <th>Date_month_year</th>\n",
       "      <th></th>\n",
       "      <th></th>\n",
       "      <th></th>\n",
       "      <th></th>\n",
       "      <th></th>\n",
       "      <th></th>\n",
       "      <th></th>\n",
       "      <th></th>\n",
       "    </tr>\n",
       "  </thead>\n",
       "  <tbody>\n",
       "    <tr>\n",
       "      <th>2015-04-22</th>\n",
       "      <td>Comcast Cable Internet Speeds</td>\n",
       "      <td>22-04-15</td>\n",
       "      <td>Customer Care Call</td>\n",
       "      <td>Abingdon</td>\n",
       "      <td>Maryland</td>\n",
       "      <td>21009</td>\n",
       "      <td>Closed</td>\n",
       "      <td>No</td>\n",
       "    </tr>\n",
       "    <tr>\n",
       "      <th>2015-08-04</th>\n",
       "      <td>Payment disappear - service got disconnected</td>\n",
       "      <td>04-08-15</td>\n",
       "      <td>Internet</td>\n",
       "      <td>Acworth</td>\n",
       "      <td>Georgia</td>\n",
       "      <td>30102</td>\n",
       "      <td>Closed</td>\n",
       "      <td>No</td>\n",
       "    </tr>\n",
       "    <tr>\n",
       "      <th>2015-04-18</th>\n",
       "      <td>Speed and Service</td>\n",
       "      <td>18-04-15</td>\n",
       "      <td>Internet</td>\n",
       "      <td>Acworth</td>\n",
       "      <td>Georgia</td>\n",
       "      <td>30101</td>\n",
       "      <td>Closed</td>\n",
       "      <td>Yes</td>\n",
       "    </tr>\n",
       "    <tr>\n",
       "      <th>2015-07-05</th>\n",
       "      <td>Comcast Imposed a New Usage Cap of 300GB that ...</td>\n",
       "      <td>05-07-15</td>\n",
       "      <td>Internet</td>\n",
       "      <td>Acworth</td>\n",
       "      <td>Georgia</td>\n",
       "      <td>30101</td>\n",
       "      <td>Open</td>\n",
       "      <td>Yes</td>\n",
       "    </tr>\n",
       "    <tr>\n",
       "      <th>2015-05-26</th>\n",
       "      <td>Comcast not working and no service to boot</td>\n",
       "      <td>26-05-15</td>\n",
       "      <td>Internet</td>\n",
       "      <td>Acworth</td>\n",
       "      <td>Georgia</td>\n",
       "      <td>30101</td>\n",
       "      <td>Solved</td>\n",
       "      <td>No</td>\n",
       "    </tr>\n",
       "  </tbody>\n",
       "</table>\n",
       "</div>"
      ],
      "text/plain": [
       "                                                Customer Complaint      Date  \\\n",
       "Date_month_year                                                                \n",
       "2015-04-22                           Comcast Cable Internet Speeds  22-04-15   \n",
       "2015-08-04            Payment disappear - service got disconnected  04-08-15   \n",
       "2015-04-18                                       Speed and Service  18-04-15   \n",
       "2015-07-05       Comcast Imposed a New Usage Cap of 300GB that ...  05-07-15   \n",
       "2015-05-26              Comcast not working and no service to boot  26-05-15   \n",
       "\n",
       "                       Received Via      City     State  Zip code  Status  \\\n",
       "Date_month_year                                                             \n",
       "2015-04-22       Customer Care Call  Abingdon  Maryland     21009  Closed   \n",
       "2015-08-04                 Internet   Acworth   Georgia     30102  Closed   \n",
       "2015-04-18                 Internet   Acworth   Georgia     30101  Closed   \n",
       "2015-07-05                 Internet   Acworth   Georgia     30101    Open   \n",
       "2015-05-26                 Internet   Acworth   Georgia     30101  Solved   \n",
       "\n",
       "                Filing on Behalf of Someone  \n",
       "Date_month_year                              \n",
       "2015-04-22                               No  \n",
       "2015-08-04                               No  \n",
       "2015-04-18                              Yes  \n",
       "2015-07-05                              Yes  \n",
       "2015-05-26                               No  "
      ]
     },
     "execution_count": 18,
     "metadata": {},
     "output_type": "execute_result"
    }
   ],
   "source": [
    "df.head()"
   ]
  },
  {
   "cell_type": "code",
   "execution_count": 20,
   "id": "5091390d",
   "metadata": {},
   "outputs": [
    {
     "data": {
      "text/plain": [
       "Text(0.5, 1.0, 'Monthly Trend chat')"
      ]
     },
     "execution_count": 20,
     "metadata": {},
     "output_type": "execute_result"
    },
    {
     "data": {
      "image/png": "[encoded data removed]",
      "text/plain": [
       "<Figure size 432x288 with 1 Axes>"
      ]
     },
     "metadata": {
      "needs_background": "light"
     },
     "output_type": "display_data"
    }
   ],
   "source": [
    "df.groupby(pd.Grouper(freq=\"M\")).size().plot()\n",
    "plt.xlabel(\"Month\")\n",
    "plt.ylabel(\"Frequency\")\n",
    "plt.title(\"Monthly Trend chat\")"
   ]
  },
  {
   "cell_type": "code",
   "execution_count": 21,
   "id": "1a87ae78",
   "metadata": {},
   "outputs": [
    {
     "data": {
      "text/plain": [
       "24-06-15    218\n",
       "23-06-15    190\n",
       "25-06-15     98\n",
       "26-06-15     55\n",
       "30-06-15     53\n",
       "29-06-15     51\n",
       "18-06-15     47\n",
       "06-12-15     43\n",
       "Name: Date, dtype: int64"
      ]
     },
     "execution_count": 21,
     "metadata": {},
     "output_type": "execute_result"
    }
   ],
   "source": [
    "df[\"Date\"].value_counts()[:8]"
   ]
  },
  {
   "cell_type": "code",
   "execution_count": 23,
   "id": "4ecbd3b1",
   "metadata": {},
   "outputs": [
    {
     "data": {
      "text/plain": [
       "Text(0.5, 1.0, 'Daily Trend chat')"
      ]
     },
     "execution_count": 23,
     "metadata": {},
     "output_type": "execute_result"
    },
    {
     "data": {
      "image/png": "[encoded data removed]",
      "text/plain": [
       "<Figure size 720x360 with 1 Axes>"
      ]
     },
     "metadata": {
      "needs_background": "light"
     },
     "output_type": "display_data"
    }
   ],
   "source": [
    "#plotting daily chart\n",
    "\n",
    "df=df.sort_values(by=\"Date\")\n",
    "plt.figure(figsize=(10,5))\n",
    "df[\"Date\"].value_counts().plot()\n",
    "plt.xlabel(\"Date\")\n",
    "plt.ylabel(\"Frequency\")\n",
    "plt.title(\"Daily Trend chat\")"
   ]
  },
  {
   "cell_type": "code",
   "execution_count": 24,
   "id": "aef23771",
   "metadata": {},
   "outputs": [],
   "source": [
    "#Provide a table with the frequency of complaint types"
   ]
  },
  {
   "cell_type": "code",
   "execution_count": 25,
   "id": "4da14a2e",
   "metadata": {},
   "outputs": [
    {
     "data": {
      "text/plain": [
       "Comcast                     83\n",
       "Comcast Internet            18\n",
       "Comcast Data Cap            17\n",
       "comcast                     13\n",
       "Comcast Billing             11\n",
       "Comcast Data Caps           11\n",
       "Data Caps                   11\n",
       "Unfair Billing Practices     9\n",
       "Internet speed               8\n",
       "Name: Customer Complaint, dtype: int64"
      ]
     },
     "execution_count": 25,
     "metadata": {},
     "output_type": "execute_result"
    }
   ],
   "source": [
    "df['Customer Complaint'].value_counts()[:9]"
   ]
  },
  {
   "cell_type": "code",
   "execution_count": 26,
   "id": "50d01353",
   "metadata": {},
   "outputs": [
    {
     "data": {
      "text/plain": [
       "<AxesSubplot:>"
      ]
     },
     "execution_count": 26,
     "metadata": {},
     "output_type": "execute_result"
    },
    {
     "data": {
      "image/png": "[encoded data removed]",
      "text/plain": [
       "<Figure size 432x288 with 1 Axes>"
      ]
     },
     "metadata": {
      "needs_background": "light"
     },
     "output_type": "display_data"
    }
   ],
   "source": [
    "df['Customer Complaint'].value_counts()[:9].plot.bar()"
   ]
  },
  {
   "cell_type": "code",
   "execution_count": 27,
   "id": "2ab63f1e",
   "metadata": {},
   "outputs": [],
   "source": [
    "#Which complaint types are maximum i.e., around internet, network issues, or across any other domains.\n",
    "#- Create a new categorical variable with value as Open and Closed. Open & Pending is to be categorized as Open and Closed & Solved is to be categorized as Closed.\n",
    "#- Provide state wise status of complaints in a stacked bar chart. Use the categorized variable from Q3. Provide insights on:"
   ]
  },
  {
   "cell_type": "code",
   "execution_count": 28,
   "id": "01c6d554",
   "metadata": {},
   "outputs": [],
   "source": [
    "#Which complaint types are maximum i.e., around internet, network issues, or across any other domains."
   ]
  },
  {
   "cell_type": "code",
   "execution_count": 29,
   "id": "197d3eb9",
   "metadata": {},
   "outputs": [
    {
     "data": {
      "text/plain": [
       "array(['Fraudulent claims reported to collections agency',\n",
       "       'Comcast refusal of service', 'Comcast Cable', ...,\n",
       "       'Comcast of East Windsor NJ Complaint',\n",
       "       'Complaint against Comcast for incredibly bad service',\n",
       "       'Questionable internet slowdown'], dtype=object)"
      ]
     },
     "execution_count": 29,
     "metadata": {},
     "output_type": "execute_result"
    }
   ],
   "source": [
    "df['Customer Complaint'].unique()"
   ]
  },
  {
   "cell_type": "code",
   "execution_count": 30,
   "id": "021c170d",
   "metadata": {},
   "outputs": [],
   "source": [
    "st=\"welcome to DS\""
   ]
  },
  {
   "cell_type": "code",
   "execution_count": 33,
   "id": "c8d5f55b",
   "metadata": {},
   "outputs": [
    {
     "data": {
      "text/html": [
       "<div>\n",
       "<style scoped>\n",
       "    .dataframe tbody tr th:only-of-type {\n",
       "        vertical-align: middle;\n",
       "    }\n",
       "\n",
       "    .dataframe tbody tr th {\n",
       "        vertical-align: top;\n",
       "    }\n",
       "\n",
       "    .dataframe thead th {\n",
       "        text-align: right;\n",
       "    }\n",
       "</style>\n",
       "<table border=\"1\" class=\"dataframe\">\n",
       "  <thead>\n",
       "    <tr style=\"text-align: right;\">\n",
       "      <th></th>\n",
       "      <th>Customer Complaint</th>\n",
       "      <th>Date</th>\n",
       "      <th>Received Via</th>\n",
       "      <th>City</th>\n",
       "      <th>State</th>\n",
       "      <th>Zip code</th>\n",
       "      <th>Status</th>\n",
       "      <th>Filing on Behalf of Someone</th>\n",
       "    </tr>\n",
       "    <tr>\n",
       "      <th>Date_month_year</th>\n",
       "      <th></th>\n",
       "      <th></th>\n",
       "      <th></th>\n",
       "      <th></th>\n",
       "      <th></th>\n",
       "      <th></th>\n",
       "      <th></th>\n",
       "      <th></th>\n",
       "    </tr>\n",
       "  </thead>\n",
       "  <tbody>\n",
       "    <tr>\n",
       "      <th>2015-06-23</th>\n",
       "      <td>Not receiving network speed as advertised</td>\n",
       "      <td>23-06-15</td>\n",
       "      <td>Customer Care Call</td>\n",
       "      <td>Lancaster</td>\n",
       "      <td>Pennsylvania</td>\n",
       "      <td>17603</td>\n",
       "      <td>Open</td>\n",
       "      <td>No</td>\n",
       "    </tr>\n",
       "  </tbody>\n",
       "</table>\n",
       "</div>"
      ],
      "text/plain": [
       "                                        Customer Complaint      Date  \\\n",
       "Date_month_year                                                        \n",
       "2015-06-23       Not receiving network speed as advertised  23-06-15   \n",
       "\n",
       "                       Received Via       City         State  Zip code Status  \\\n",
       "Date_month_year                                                                 \n",
       "2015-06-23       Customer Care Call  Lancaster  Pennsylvania     17603   Open   \n",
       "\n",
       "                Filing on Behalf of Someone  \n",
       "Date_month_year                              \n",
       "2015-06-23                               No  "
      ]
     },
     "execution_count": 33,
     "metadata": {},
     "output_type": "execute_result"
    }
   ],
   "source": [
    "df[df['Customer Complaint'].str.contains('network')]"
   ]
  },
  {
   "cell_type": "code",
   "execution_count": 34,
   "id": "c84734e0",
   "metadata": {},
   "outputs": [
    {
     "data": {
      "text/plain": [
       "Customer Complaint             1\n",
       "Date                           1\n",
       "Received Via                   1\n",
       "City                           1\n",
       "State                          1\n",
       "Zip code                       1\n",
       "Status                         1\n",
       "Filing on Behalf of Someone    1\n",
       "dtype: int64"
      ]
     },
     "execution_count": 34,
     "metadata": {},
     "output_type": "execute_result"
    }
   ],
   "source": [
    "df[df['Customer Complaint'].str.contains('network')].count()"
   ]
  },
  {
   "cell_type": "code",
   "execution_count": 35,
   "id": "04dd48e4",
   "metadata": {},
   "outputs": [],
   "source": [
    "internet_issue1=df[df['Customer Complaint'].str.contains('network')].count()"
   ]
  },
  {
   "cell_type": "code",
   "execution_count": 36,
   "id": "6fedf6d3",
   "metadata": {},
   "outputs": [],
   "source": [
    "internet_issue2=df[df['Customer Complaint'].str.contains('speed')].count()"
   ]
  },
  {
   "cell_type": "code",
   "execution_count": 37,
   "id": "5ae3e5a6",
   "metadata": {},
   "outputs": [],
   "source": [
    "internet_issue3=df[df['Customer Complaint'].str.contains('data')].count()"
   ]
  },
  {
   "cell_type": "code",
   "execution_count": 38,
   "id": "3c279df9",
   "metadata": {},
   "outputs": [],
   "source": [
    "internet_issue4=df[df['Customer Complaint'].str.contains('internet')].count()"
   ]
  },
  {
   "cell_type": "code",
   "execution_count": 39,
   "id": "990694f8",
   "metadata": {},
   "outputs": [],
   "source": [
    "billing_issue1=df[df['Customer Complaint'].str.contains('billing')].count()"
   ]
  },
  {
   "cell_type": "code",
   "execution_count": 40,
   "id": "dfe12cf7",
   "metadata": {},
   "outputs": [],
   "source": [
    "billing_issue2=df[df['Customer Complaint'].str.contains('charges')].count()"
   ]
  },
  {
   "cell_type": "code",
   "execution_count": 41,
   "id": "63f35947",
   "metadata": {},
   "outputs": [],
   "source": [
    "billing_issue3=df[df['Customer Complaint'].str.contains('billing')].count()"
   ]
  },
  {
   "cell_type": "code",
   "execution_count": 42,
   "id": "0579f7cf",
   "metadata": {},
   "outputs": [],
   "source": [
    "service_issue1=df[df['Customer Complaint'].str.contains('service')].count()"
   ]
  },
  {
   "cell_type": "code",
   "execution_count": 43,
   "id": "0be1614b",
   "metadata": {},
   "outputs": [],
   "source": [
    "service_issue2=df[df['Customer Complaint'].str.contains('customer')].count()"
   ]
  },
  {
   "cell_type": "code",
   "execution_count": 44,
   "id": "f075160d",
   "metadata": {},
   "outputs": [],
   "source": [
    "total_issue_internet=internet_issue1+internet_issue2+internet_issue3+internet_issue4"
   ]
  },
  {
   "cell_type": "code",
   "execution_count": 45,
   "id": "e4074425",
   "metadata": {},
   "outputs": [
    {
     "data": {
      "text/plain": [
       "Customer Complaint             374\n",
       "Date                           374\n",
       "Received Via                   374\n",
       "City                           374\n",
       "State                          374\n",
       "Zip code                       374\n",
       "Status                         374\n",
       "Filing on Behalf of Someone    374\n",
       "dtype: int64"
      ]
     },
     "execution_count": 45,
     "metadata": {},
     "output_type": "execute_result"
    }
   ],
   "source": [
    "total_issue_internet"
   ]
  },
  {
   "cell_type": "code",
   "execution_count": 46,
   "id": "66ba58cc",
   "metadata": {},
   "outputs": [],
   "source": [
    "total_billing_issues=billing_issue1+billing_issue2+billing_issue3"
   ]
  },
  {
   "cell_type": "code",
   "execution_count": 47,
   "id": "7f61449b",
   "metadata": {},
   "outputs": [
    {
     "data": {
      "text/plain": [
       "Customer Complaint             295\n",
       "Date                           295\n",
       "Received Via                   295\n",
       "City                           295\n",
       "State                          295\n",
       "Zip code                       295\n",
       "Status                         295\n",
       "Filing on Behalf of Someone    295\n",
       "dtype: int64"
      ]
     },
     "execution_count": 47,
     "metadata": {},
     "output_type": "execute_result"
    }
   ],
   "source": [
    "total_billing_issues"
   ]
  },
  {
   "cell_type": "code",
   "execution_count": 48,
   "id": "52156091",
   "metadata": {},
   "outputs": [],
   "source": [
    "total_service_issues=service_issue1+service_issue2"
   ]
  },
  {
   "cell_type": "code",
   "execution_count": 49,
   "id": "32d88d12",
   "metadata": {},
   "outputs": [
    {
     "data": {
      "text/plain": [
       "Customer Complaint             360\n",
       "Date                           360\n",
       "Received Via                   360\n",
       "City                           360\n",
       "State                          360\n",
       "Zip code                       360\n",
       "Status                         360\n",
       "Filing on Behalf of Someone    360\n",
       "dtype: int64"
      ]
     },
     "execution_count": 49,
     "metadata": {},
     "output_type": "execute_result"
    }
   ],
   "source": [
    "total_service_issues"
   ]
  },
  {
   "cell_type": "code",
   "execution_count": 51,
   "id": "33a29ebe",
   "metadata": {},
   "outputs": [
    {
     "data": {
      "text/plain": [
       "(2224, 8)"
      ]
     },
     "execution_count": 51,
     "metadata": {},
     "output_type": "execute_result"
    }
   ],
   "source": [
    "df.shape"
   ]
  },
  {
   "cell_type": "code",
   "execution_count": 52,
   "id": "010349ab",
   "metadata": {},
   "outputs": [],
   "source": [
    "other_issue=2224-(total_service_issues+total_billing_issues+total_issue_internet)"
   ]
  },
  {
   "cell_type": "code",
   "execution_count": 53,
   "id": "d4f67917",
   "metadata": {},
   "outputs": [
    {
     "data": {
      "text/plain": [
       "Customer Complaint             1195\n",
       "Date                           1195\n",
       "Received Via                   1195\n",
       "City                           1195\n",
       "State                          1195\n",
       "Zip code                       1195\n",
       "Status                         1195\n",
       "Filing on Behalf of Someone    1195\n",
       "dtype: int64"
      ]
     },
     "execution_count": 53,
     "metadata": {},
     "output_type": "execute_result"
    }
   ],
   "source": [
    "other_issue"
   ]
  },
  {
   "cell_type": "code",
   "execution_count": 54,
   "id": "5a4cf047",
   "metadata": {},
   "outputs": [],
   "source": [
    "#Create a new categorical variable with value as Open and Closed. (cont..)\n",
    "#Open & Pending is to be categorized as Open and Closed & Solved is to be categorized as Closed."
   ]
  },
  {
   "cell_type": "code",
   "execution_count": 56,
   "id": "09bfe75c",
   "metadata": {},
   "outputs": [],
   "source": [
    "df[\"newStatus\"]=['Open' if Status=='Open' or Status=='pending' else 'closed' for Status in df[\"Status\"]]"
   ]
  },
  {
   "cell_type": "code",
   "execution_count": 57,
   "id": "8b928055",
   "metadata": {},
   "outputs": [
    {
     "data": {
      "text/html": [
       "<div>\n",
       "<style scoped>\n",
       "    .dataframe tbody tr th:only-of-type {\n",
       "        vertical-align: middle;\n",
       "    }\n",
       "\n",
       "    .dataframe tbody tr th {\n",
       "        vertical-align: top;\n",
       "    }\n",
       "\n",
       "    .dataframe thead th {\n",
       "        text-align: right;\n",
       "    }\n",
       "</style>\n",
       "<table border=\"1\" class=\"dataframe\">\n",
       "  <thead>\n",
       "    <tr style=\"text-align: right;\">\n",
       "      <th></th>\n",
       "      <th>Customer Complaint</th>\n",
       "      <th>Date</th>\n",
       "      <th>Received Via</th>\n",
       "      <th>City</th>\n",
       "      <th>State</th>\n",
       "      <th>Zip code</th>\n",
       "      <th>Status</th>\n",
       "      <th>Filing on Behalf of Someone</th>\n",
       "      <th>newStatus</th>\n",
       "    </tr>\n",
       "    <tr>\n",
       "      <th>Date_month_year</th>\n",
       "      <th></th>\n",
       "      <th></th>\n",
       "      <th></th>\n",
       "      <th></th>\n",
       "      <th></th>\n",
       "      <th></th>\n",
       "      <th></th>\n",
       "      <th></th>\n",
       "      <th></th>\n",
       "    </tr>\n",
       "  </thead>\n",
       "  <tbody>\n",
       "    <tr>\n",
       "      <th>2015-06-23</th>\n",
       "      <td>Billing &amp; Data Usage</td>\n",
       "      <td>23-06-15</td>\n",
       "      <td>Internet</td>\n",
       "      <td>Canton</td>\n",
       "      <td>Mississippi</td>\n",
       "      <td>39046</td>\n",
       "      <td>Solved</td>\n",
       "      <td>No</td>\n",
       "      <td>closed</td>\n",
       "    </tr>\n",
       "    <tr>\n",
       "      <th>2015-05-31</th>\n",
       "      <td>Comcast deceptive selling billing lack of serv...</td>\n",
       "      <td>31-05-15</td>\n",
       "      <td>Internet</td>\n",
       "      <td>Evans</td>\n",
       "      <td>Georgia</td>\n",
       "      <td>30809</td>\n",
       "      <td>Closed</td>\n",
       "      <td>No</td>\n",
       "      <td>closed</td>\n",
       "    </tr>\n",
       "    <tr>\n",
       "      <th>2015-04-28</th>\n",
       "      <td>Comcast Internet down since 4/25 with no resolve</td>\n",
       "      <td>28-04-15</td>\n",
       "      <td>Customer Care Call</td>\n",
       "      <td>Mt. Pleasant</td>\n",
       "      <td>South Carolina</td>\n",
       "      <td>29464</td>\n",
       "      <td>Closed</td>\n",
       "      <td>No</td>\n",
       "      <td>closed</td>\n",
       "    </tr>\n",
       "    <tr>\n",
       "      <th>2015-08-04</th>\n",
       "      <td>new fcc internet rules slowing down system</td>\n",
       "      <td>04-08-15</td>\n",
       "      <td>Internet</td>\n",
       "      <td>Middletown</td>\n",
       "      <td>Connecticut</td>\n",
       "      <td>6457</td>\n",
       "      <td>Closed</td>\n",
       "      <td>No</td>\n",
       "      <td>closed</td>\n",
       "    </tr>\n",
       "    <tr>\n",
       "      <th>2015-01-06</th>\n",
       "      <td>Comcast is double billing me and not processin...</td>\n",
       "      <td>06-01-15</td>\n",
       "      <td>Customer Care Call</td>\n",
       "      <td>City Of Orange</td>\n",
       "      <td>New Jersey</td>\n",
       "      <td>7050</td>\n",
       "      <td>Closed</td>\n",
       "      <td>No</td>\n",
       "      <td>closed</td>\n",
       "    </tr>\n",
       "    <tr>\n",
       "      <th>2015-04-24</th>\n",
       "      <td>problems with internet service</td>\n",
       "      <td>24-04-15</td>\n",
       "      <td>Internet</td>\n",
       "      <td>York Haven</td>\n",
       "      <td>Pennsylvania</td>\n",
       "      <td>17370</td>\n",
       "      <td>Closed</td>\n",
       "      <td>No</td>\n",
       "      <td>closed</td>\n",
       "    </tr>\n",
       "    <tr>\n",
       "      <th>2015-11-06</th>\n",
       "      <td>Sold one service, received another</td>\n",
       "      <td>06-11-15</td>\n",
       "      <td>Customer Care Call</td>\n",
       "      <td>Northport</td>\n",
       "      <td>Alabama</td>\n",
       "      <td>35473</td>\n",
       "      <td>Closed</td>\n",
       "      <td>No</td>\n",
       "      <td>closed</td>\n",
       "    </tr>\n",
       "    <tr>\n",
       "      <th>2015-06-24</th>\n",
       "      <td>Promised Speeds</td>\n",
       "      <td>24-06-15</td>\n",
       "      <td>Customer Care Call</td>\n",
       "      <td>West Valley City</td>\n",
       "      <td>Utah</td>\n",
       "      <td>84119</td>\n",
       "      <td>Solved</td>\n",
       "      <td>No</td>\n",
       "      <td>closed</td>\n",
       "    </tr>\n",
       "    <tr>\n",
       "      <th>2015-06-26</th>\n",
       "      <td>Suspected Throttling</td>\n",
       "      <td>26-06-15</td>\n",
       "      <td>Internet</td>\n",
       "      <td>Bloomington</td>\n",
       "      <td>Illinois</td>\n",
       "      <td>61704</td>\n",
       "      <td>Open</td>\n",
       "      <td>Yes</td>\n",
       "      <td>Open</td>\n",
       "    </tr>\n",
       "    <tr>\n",
       "      <th>2015-06-18</th>\n",
       "      <td>Comcast Internet, being charged full price for...</td>\n",
       "      <td>18-06-15</td>\n",
       "      <td>Internet</td>\n",
       "      <td>Springfield</td>\n",
       "      <td>Oregon</td>\n",
       "      <td>97478</td>\n",
       "      <td>Solved</td>\n",
       "      <td>No</td>\n",
       "      <td>closed</td>\n",
       "    </tr>\n",
       "  </tbody>\n",
       "</table>\n",
       "</div>"
      ],
      "text/plain": [
       "                                                Customer Complaint      Date  \\\n",
       "Date_month_year                                                                \n",
       "2015-06-23                                    Billing & Data Usage  23-06-15   \n",
       "2015-05-31       Comcast deceptive selling billing lack of serv...  31-05-15   \n",
       "2015-04-28        Comcast Internet down since 4/25 with no resolve  28-04-15   \n",
       "2015-08-04              new fcc internet rules slowing down system  04-08-15   \n",
       "2015-01-06       Comcast is double billing me and not processin...  06-01-15   \n",
       "2015-04-24                          problems with internet service  24-04-15   \n",
       "2015-11-06                      Sold one service, received another  06-11-15   \n",
       "2015-06-24                                         Promised Speeds  24-06-15   \n",
       "2015-06-26                                    Suspected Throttling  26-06-15   \n",
       "2015-06-18       Comcast Internet, being charged full price for...  18-06-15   \n",
       "\n",
       "                       Received Via              City           State  \\\n",
       "Date_month_year                                                         \n",
       "2015-06-23                 Internet            Canton     Mississippi   \n",
       "2015-05-31                 Internet             Evans         Georgia   \n",
       "2015-04-28       Customer Care Call      Mt. Pleasant  South Carolina   \n",
       "2015-08-04                 Internet        Middletown     Connecticut   \n",
       "2015-01-06       Customer Care Call    City Of Orange      New Jersey   \n",
       "2015-04-24                 Internet        York Haven    Pennsylvania   \n",
       "2015-11-06       Customer Care Call         Northport         Alabama   \n",
       "2015-06-24       Customer Care Call  West Valley City            Utah   \n",
       "2015-06-26                 Internet       Bloomington        Illinois   \n",
       "2015-06-18                 Internet       Springfield          Oregon   \n",
       "\n",
       "                 Zip code  Status Filing on Behalf of Someone newStatus  \n",
       "Date_month_year                                                          \n",
       "2015-06-23          39046  Solved                          No    closed  \n",
       "2015-05-31          30809  Closed                          No    closed  \n",
       "2015-04-28          29464  Closed                          No    closed  \n",
       "2015-08-04           6457  Closed                          No    closed  \n",
       "2015-01-06           7050  Closed                          No    closed  \n",
       "2015-04-24          17370  Closed                          No    closed  \n",
       "2015-11-06          35473  Closed                          No    closed  \n",
       "2015-06-24          84119  Solved                          No    closed  \n",
       "2015-06-26          61704    Open                         Yes      Open  \n",
       "2015-06-18          97478  Solved                          No    closed  "
      ]
     },
     "execution_count": 57,
     "metadata": {},
     "output_type": "execute_result"
    }
   ],
   "source": [
    "df.sample(10)"
   ]
  },
  {
   "cell_type": "code",
   "execution_count": 58,
   "id": "a90f0b07",
   "metadata": {},
   "outputs": [],
   "source": [
    "#Which state has the maximum complaints"
   ]
  },
  {
   "cell_type": "code",
   "execution_count": 59,
   "id": "6bc56c39",
   "metadata": {},
   "outputs": [
    {
     "data": {
      "text/plain": [
       "State\n",
       "Georgia       288\n",
       "Florida       240\n",
       "California    220\n",
       "Illinois      164\n",
       "Tennessee     143\n",
       "dtype: int64"
      ]
     },
     "execution_count": 59,
     "metadata": {},
     "output_type": "execute_result"
    }
   ],
   "source": [
    "df.groupby(['State']).size().sort_values(ascending=False)[:5]"
   ]
  },
  {
   "cell_type": "code",
   "execution_count": 66,
   "id": "f1c3d0a9",
   "metadata": {},
   "outputs": [],
   "source": [
    "#Provide state wise status of complaints in a stacked bar chart. Use the categorized variable from Q3. Provide insights on\n",
    "#stacking is equivalent to pivoting(unstack)"
   ]
  },
  {
   "cell_type": "code",
   "execution_count": 64,
   "id": "3e4e1bc4",
   "metadata": {},
   "outputs": [],
   "source": [
    "state_complain=df.groupby(['State','newStatus']).size().unstack()"
   ]
  },
  {
   "cell_type": "code",
   "execution_count": 65,
   "id": "4431cf58",
   "metadata": {},
   "outputs": [
    {
     "data": {
      "text/html": [
       "<div>\n",
       "<style scoped>\n",
       "    .dataframe tbody tr th:only-of-type {\n",
       "        vertical-align: middle;\n",
       "    }\n",
       "\n",
       "    .dataframe tbody tr th {\n",
       "        vertical-align: top;\n",
       "    }\n",
       "\n",
       "    .dataframe thead th {\n",
       "        text-align: right;\n",
       "    }\n",
       "</style>\n",
       "<table border=\"1\" class=\"dataframe\">\n",
       "  <thead>\n",
       "    <tr style=\"text-align: right;\">\n",
       "      <th>newStatus</th>\n",
       "      <th>Open</th>\n",
       "      <th>closed</th>\n",
       "    </tr>\n",
       "    <tr>\n",
       "      <th>State</th>\n",
       "      <th></th>\n",
       "      <th></th>\n",
       "    </tr>\n",
       "  </thead>\n",
       "  <tbody>\n",
       "    <tr>\n",
       "      <th>Alabama</th>\n",
       "      <td>4.0</td>\n",
       "      <td>22.0</td>\n",
       "    </tr>\n",
       "    <tr>\n",
       "      <th>Arizona</th>\n",
       "      <td>2.0</td>\n",
       "      <td>18.0</td>\n",
       "    </tr>\n",
       "    <tr>\n",
       "      <th>Arkansas</th>\n",
       "      <td>NaN</td>\n",
       "      <td>6.0</td>\n",
       "    </tr>\n",
       "    <tr>\n",
       "      <th>California</th>\n",
       "      <td>47.0</td>\n",
       "      <td>173.0</td>\n",
       "    </tr>\n",
       "    <tr>\n",
       "      <th>Colorado</th>\n",
       "      <td>12.0</td>\n",
       "      <td>68.0</td>\n",
       "    </tr>\n",
       "    <tr>\n",
       "      <th>Connecticut</th>\n",
       "      <td>2.0</td>\n",
       "      <td>10.0</td>\n",
       "    </tr>\n",
       "    <tr>\n",
       "      <th>Delaware</th>\n",
       "      <td>3.0</td>\n",
       "      <td>9.0</td>\n",
       "    </tr>\n",
       "    <tr>\n",
       "      <th>District Of Columbia</th>\n",
       "      <td>1.0</td>\n",
       "      <td>15.0</td>\n",
       "    </tr>\n",
       "    <tr>\n",
       "      <th>District of Columbia</th>\n",
       "      <td>NaN</td>\n",
       "      <td>1.0</td>\n",
       "    </tr>\n",
       "    <tr>\n",
       "      <th>Florida</th>\n",
       "      <td>35.0</td>\n",
       "      <td>205.0</td>\n",
       "    </tr>\n",
       "    <tr>\n",
       "      <th>Georgia</th>\n",
       "      <td>35.0</td>\n",
       "      <td>253.0</td>\n",
       "    </tr>\n",
       "    <tr>\n",
       "      <th>Illinois</th>\n",
       "      <td>23.0</td>\n",
       "      <td>141.0</td>\n",
       "    </tr>\n",
       "    <tr>\n",
       "      <th>Indiana</th>\n",
       "      <td>8.0</td>\n",
       "      <td>51.0</td>\n",
       "    </tr>\n",
       "    <tr>\n",
       "      <th>Iowa</th>\n",
       "      <td>NaN</td>\n",
       "      <td>1.0</td>\n",
       "    </tr>\n",
       "    <tr>\n",
       "      <th>Kansas</th>\n",
       "      <td>NaN</td>\n",
       "      <td>2.0</td>\n",
       "    </tr>\n",
       "    <tr>\n",
       "      <th>Kentucky</th>\n",
       "      <td>NaN</td>\n",
       "      <td>7.0</td>\n",
       "    </tr>\n",
       "    <tr>\n",
       "      <th>Louisiana</th>\n",
       "      <td>NaN</td>\n",
       "      <td>13.0</td>\n",
       "    </tr>\n",
       "    <tr>\n",
       "      <th>Maine</th>\n",
       "      <td>2.0</td>\n",
       "      <td>3.0</td>\n",
       "    </tr>\n",
       "    <tr>\n",
       "      <th>Maryland</th>\n",
       "      <td>13.0</td>\n",
       "      <td>65.0</td>\n",
       "    </tr>\n",
       "    <tr>\n",
       "      <th>Massachusetts</th>\n",
       "      <td>10.0</td>\n",
       "      <td>51.0</td>\n",
       "    </tr>\n",
       "    <tr>\n",
       "      <th>Michigan</th>\n",
       "      <td>18.0</td>\n",
       "      <td>97.0</td>\n",
       "    </tr>\n",
       "    <tr>\n",
       "      <th>Minnesota</th>\n",
       "      <td>2.0</td>\n",
       "      <td>31.0</td>\n",
       "    </tr>\n",
       "    <tr>\n",
       "      <th>Mississippi</th>\n",
       "      <td>9.0</td>\n",
       "      <td>30.0</td>\n",
       "    </tr>\n",
       "    <tr>\n",
       "      <th>Missouri</th>\n",
       "      <td>1.0</td>\n",
       "      <td>3.0</td>\n",
       "    </tr>\n",
       "    <tr>\n",
       "      <th>Montana</th>\n",
       "      <td>NaN</td>\n",
       "      <td>1.0</td>\n",
       "    </tr>\n",
       "    <tr>\n",
       "      <th>Nevada</th>\n",
       "      <td>NaN</td>\n",
       "      <td>1.0</td>\n",
       "    </tr>\n",
       "    <tr>\n",
       "      <th>New Hampshire</th>\n",
       "      <td>3.0</td>\n",
       "      <td>9.0</td>\n",
       "    </tr>\n",
       "    <tr>\n",
       "      <th>New Jersey</th>\n",
       "      <td>17.0</td>\n",
       "      <td>58.0</td>\n",
       "    </tr>\n",
       "    <tr>\n",
       "      <th>New Mexico</th>\n",
       "      <td>3.0</td>\n",
       "      <td>12.0</td>\n",
       "    </tr>\n",
       "    <tr>\n",
       "      <th>New York</th>\n",
       "      <td>NaN</td>\n",
       "      <td>6.0</td>\n",
       "    </tr>\n",
       "    <tr>\n",
       "      <th>North Carolina</th>\n",
       "      <td>NaN</td>\n",
       "      <td>3.0</td>\n",
       "    </tr>\n",
       "    <tr>\n",
       "      <th>Ohio</th>\n",
       "      <td>NaN</td>\n",
       "      <td>3.0</td>\n",
       "    </tr>\n",
       "    <tr>\n",
       "      <th>Oregon</th>\n",
       "      <td>10.0</td>\n",
       "      <td>39.0</td>\n",
       "    </tr>\n",
       "    <tr>\n",
       "      <th>Pennsylvania</th>\n",
       "      <td>14.0</td>\n",
       "      <td>116.0</td>\n",
       "    </tr>\n",
       "    <tr>\n",
       "      <th>Rhode Island</th>\n",
       "      <td>NaN</td>\n",
       "      <td>1.0</td>\n",
       "    </tr>\n",
       "    <tr>\n",
       "      <th>South Carolina</th>\n",
       "      <td>2.0</td>\n",
       "      <td>16.0</td>\n",
       "    </tr>\n",
       "    <tr>\n",
       "      <th>Tennessee</th>\n",
       "      <td>33.0</td>\n",
       "      <td>110.0</td>\n",
       "    </tr>\n",
       "    <tr>\n",
       "      <th>Texas</th>\n",
       "      <td>18.0</td>\n",
       "      <td>53.0</td>\n",
       "    </tr>\n",
       "    <tr>\n",
       "      <th>Utah</th>\n",
       "      <td>6.0</td>\n",
       "      <td>16.0</td>\n",
       "    </tr>\n",
       "    <tr>\n",
       "      <th>Vermont</th>\n",
       "      <td>1.0</td>\n",
       "      <td>2.0</td>\n",
       "    </tr>\n",
       "    <tr>\n",
       "      <th>Virginia</th>\n",
       "      <td>8.0</td>\n",
       "      <td>52.0</td>\n",
       "    </tr>\n",
       "    <tr>\n",
       "      <th>Washington</th>\n",
       "      <td>18.0</td>\n",
       "      <td>80.0</td>\n",
       "    </tr>\n",
       "    <tr>\n",
       "      <th>West Virginia</th>\n",
       "      <td>3.0</td>\n",
       "      <td>8.0</td>\n",
       "    </tr>\n",
       "  </tbody>\n",
       "</table>\n",
       "</div>"
      ],
      "text/plain": [
       "newStatus             Open  closed\n",
       "State                             \n",
       "Alabama                4.0    22.0\n",
       "Arizona                2.0    18.0\n",
       "Arkansas               NaN     6.0\n",
       "California            47.0   173.0\n",
       "Colorado              12.0    68.0\n",
       "Connecticut            2.0    10.0\n",
       "Delaware               3.0     9.0\n",
       "District Of Columbia   1.0    15.0\n",
       "District of Columbia   NaN     1.0\n",
       "Florida               35.0   205.0\n",
       "Georgia               35.0   253.0\n",
       "Illinois              23.0   141.0\n",
       "Indiana                8.0    51.0\n",
       "Iowa                   NaN     1.0\n",
       "Kansas                 NaN     2.0\n",
       "Kentucky               NaN     7.0\n",
       "Louisiana              NaN    13.0\n",
       "Maine                  2.0     3.0\n",
       "Maryland              13.0    65.0\n",
       "Massachusetts         10.0    51.0\n",
       "Michigan              18.0    97.0\n",
       "Minnesota              2.0    31.0\n",
       "Mississippi            9.0    30.0\n",
       "Missouri               1.0     3.0\n",
       "Montana                NaN     1.0\n",
       "Nevada                 NaN     1.0\n",
       "New Hampshire          3.0     9.0\n",
       "New Jersey            17.0    58.0\n",
       "New Mexico             3.0    12.0\n",
       "New York               NaN     6.0\n",
       "North Carolina         NaN     3.0\n",
       "Ohio                   NaN     3.0\n",
       "Oregon                10.0    39.0\n",
       "Pennsylvania          14.0   116.0\n",
       "Rhode Island           NaN     1.0\n",
       "South Carolina         2.0    16.0\n",
       "Tennessee             33.0   110.0\n",
       "Texas                 18.0    53.0\n",
       "Utah                   6.0    16.0\n",
       "Vermont                1.0     2.0\n",
       "Virginia               8.0    52.0\n",
       "Washington            18.0    80.0\n",
       "West Virginia          3.0     8.0"
      ]
     },
     "execution_count": 65,
     "metadata": {},
     "output_type": "execute_result"
    }
   ],
   "source": [
    "state_complain"
   ]
  },
  {
   "cell_type": "code",
   "execution_count": 73,
   "id": "aec0bbff",
   "metadata": {},
   "outputs": [
    {
     "data": {
      "text/plain": [
       "<AxesSubplot:xlabel='State'>"
      ]
     },
     "execution_count": 73,
     "metadata": {},
     "output_type": "execute_result"
    },
    {
     "data": {
      "image/png": "[encoded data removed]",
      "text/plain": [
       "<Figure size 720x720 with 1 Axes>"
      ]
     },
     "metadata": {
      "needs_background": "light"
     },
     "output_type": "display_data"
    }
   ],
   "source": [
    "state_complain.plot.bar(figsize=(10,10),stacked=True)"
   ]
  },
  {
   "cell_type": "code",
   "execution_count": 74,
   "id": "146f3668",
   "metadata": {},
   "outputs": [],
   "source": [
    "#Which state has the highest percentage of unresolved complaints"
   ]
  },
  {
   "cell_type": "code",
   "execution_count": 75,
   "id": "33323b33",
   "metadata": {},
   "outputs": [
    {
     "data": {
      "text/plain": [
       "closed    1861\n",
       "Open       363\n",
       "Name: newStatus, dtype: int64"
      ]
     },
     "execution_count": 75,
     "metadata": {},
     "output_type": "execute_result"
    }
   ],
   "source": [
    "df.newStatus.value_counts()"
   ]
  },
  {
   "cell_type": "code",
   "execution_count": 77,
   "id": "4d2f3c52",
   "metadata": {},
   "outputs": [],
   "source": [
    "unresolved_data=df.groupby(['State','newStatus']).size().unstack().fillna(0).sort_values(by='Open',ascending=False)"
   ]
  },
  {
   "cell_type": "code",
   "execution_count": 78,
   "id": "f3212e71",
   "metadata": {},
   "outputs": [
    {
     "data": {
      "text/html": [
       "<div>\n",
       "<style scoped>\n",
       "    .dataframe tbody tr th:only-of-type {\n",
       "        vertical-align: middle;\n",
       "    }\n",
       "\n",
       "    .dataframe tbody tr th {\n",
       "        vertical-align: top;\n",
       "    }\n",
       "\n",
       "    .dataframe thead th {\n",
       "        text-align: right;\n",
       "    }\n",
       "</style>\n",
       "<table border=\"1\" class=\"dataframe\">\n",
       "  <thead>\n",
       "    <tr style=\"text-align: right;\">\n",
       "      <th>newStatus</th>\n",
       "      <th>Open</th>\n",
       "      <th>closed</th>\n",
       "    </tr>\n",
       "    <tr>\n",
       "      <th>State</th>\n",
       "      <th></th>\n",
       "      <th></th>\n",
       "    </tr>\n",
       "  </thead>\n",
       "  <tbody>\n",
       "    <tr>\n",
       "      <th>California</th>\n",
       "      <td>47.0</td>\n",
       "      <td>173.0</td>\n",
       "    </tr>\n",
       "    <tr>\n",
       "      <th>Georgia</th>\n",
       "      <td>35.0</td>\n",
       "      <td>253.0</td>\n",
       "    </tr>\n",
       "    <tr>\n",
       "      <th>Florida</th>\n",
       "      <td>35.0</td>\n",
       "      <td>205.0</td>\n",
       "    </tr>\n",
       "    <tr>\n",
       "      <th>Tennessee</th>\n",
       "      <td>33.0</td>\n",
       "      <td>110.0</td>\n",
       "    </tr>\n",
       "    <tr>\n",
       "      <th>Illinois</th>\n",
       "      <td>23.0</td>\n",
       "      <td>141.0</td>\n",
       "    </tr>\n",
       "    <tr>\n",
       "      <th>Texas</th>\n",
       "      <td>18.0</td>\n",
       "      <td>53.0</td>\n",
       "    </tr>\n",
       "    <tr>\n",
       "      <th>Michigan</th>\n",
       "      <td>18.0</td>\n",
       "      <td>97.0</td>\n",
       "    </tr>\n",
       "    <tr>\n",
       "      <th>Washington</th>\n",
       "      <td>18.0</td>\n",
       "      <td>80.0</td>\n",
       "    </tr>\n",
       "    <tr>\n",
       "      <th>New Jersey</th>\n",
       "      <td>17.0</td>\n",
       "      <td>58.0</td>\n",
       "    </tr>\n",
       "    <tr>\n",
       "      <th>Pennsylvania</th>\n",
       "      <td>14.0</td>\n",
       "      <td>116.0</td>\n",
       "    </tr>\n",
       "    <tr>\n",
       "      <th>Maryland</th>\n",
       "      <td>13.0</td>\n",
       "      <td>65.0</td>\n",
       "    </tr>\n",
       "    <tr>\n",
       "      <th>Colorado</th>\n",
       "      <td>12.0</td>\n",
       "      <td>68.0</td>\n",
       "    </tr>\n",
       "    <tr>\n",
       "      <th>Oregon</th>\n",
       "      <td>10.0</td>\n",
       "      <td>39.0</td>\n",
       "    </tr>\n",
       "    <tr>\n",
       "      <th>Massachusetts</th>\n",
       "      <td>10.0</td>\n",
       "      <td>51.0</td>\n",
       "    </tr>\n",
       "    <tr>\n",
       "      <th>Mississippi</th>\n",
       "      <td>9.0</td>\n",
       "      <td>30.0</td>\n",
       "    </tr>\n",
       "    <tr>\n",
       "      <th>Virginia</th>\n",
       "      <td>8.0</td>\n",
       "      <td>52.0</td>\n",
       "    </tr>\n",
       "    <tr>\n",
       "      <th>Indiana</th>\n",
       "      <td>8.0</td>\n",
       "      <td>51.0</td>\n",
       "    </tr>\n",
       "    <tr>\n",
       "      <th>Utah</th>\n",
       "      <td>6.0</td>\n",
       "      <td>16.0</td>\n",
       "    </tr>\n",
       "    <tr>\n",
       "      <th>Alabama</th>\n",
       "      <td>4.0</td>\n",
       "      <td>22.0</td>\n",
       "    </tr>\n",
       "    <tr>\n",
       "      <th>New Mexico</th>\n",
       "      <td>3.0</td>\n",
       "      <td>12.0</td>\n",
       "    </tr>\n",
       "    <tr>\n",
       "      <th>New Hampshire</th>\n",
       "      <td>3.0</td>\n",
       "      <td>9.0</td>\n",
       "    </tr>\n",
       "    <tr>\n",
       "      <th>West Virginia</th>\n",
       "      <td>3.0</td>\n",
       "      <td>8.0</td>\n",
       "    </tr>\n",
       "    <tr>\n",
       "      <th>Delaware</th>\n",
       "      <td>3.0</td>\n",
       "      <td>9.0</td>\n",
       "    </tr>\n",
       "    <tr>\n",
       "      <th>Arizona</th>\n",
       "      <td>2.0</td>\n",
       "      <td>18.0</td>\n",
       "    </tr>\n",
       "    <tr>\n",
       "      <th>South Carolina</th>\n",
       "      <td>2.0</td>\n",
       "      <td>16.0</td>\n",
       "    </tr>\n",
       "    <tr>\n",
       "      <th>Connecticut</th>\n",
       "      <td>2.0</td>\n",
       "      <td>10.0</td>\n",
       "    </tr>\n",
       "    <tr>\n",
       "      <th>Minnesota</th>\n",
       "      <td>2.0</td>\n",
       "      <td>31.0</td>\n",
       "    </tr>\n",
       "    <tr>\n",
       "      <th>Maine</th>\n",
       "      <td>2.0</td>\n",
       "      <td>3.0</td>\n",
       "    </tr>\n",
       "    <tr>\n",
       "      <th>Missouri</th>\n",
       "      <td>1.0</td>\n",
       "      <td>3.0</td>\n",
       "    </tr>\n",
       "    <tr>\n",
       "      <th>District Of Columbia</th>\n",
       "      <td>1.0</td>\n",
       "      <td>15.0</td>\n",
       "    </tr>\n",
       "    <tr>\n",
       "      <th>Vermont</th>\n",
       "      <td>1.0</td>\n",
       "      <td>2.0</td>\n",
       "    </tr>\n",
       "    <tr>\n",
       "      <th>Louisiana</th>\n",
       "      <td>0.0</td>\n",
       "      <td>13.0</td>\n",
       "    </tr>\n",
       "    <tr>\n",
       "      <th>Kentucky</th>\n",
       "      <td>0.0</td>\n",
       "      <td>7.0</td>\n",
       "    </tr>\n",
       "    <tr>\n",
       "      <th>New York</th>\n",
       "      <td>0.0</td>\n",
       "      <td>6.0</td>\n",
       "    </tr>\n",
       "    <tr>\n",
       "      <th>North Carolina</th>\n",
       "      <td>0.0</td>\n",
       "      <td>3.0</td>\n",
       "    </tr>\n",
       "    <tr>\n",
       "      <th>Ohio</th>\n",
       "      <td>0.0</td>\n",
       "      <td>3.0</td>\n",
       "    </tr>\n",
       "    <tr>\n",
       "      <th>Iowa</th>\n",
       "      <td>0.0</td>\n",
       "      <td>1.0</td>\n",
       "    </tr>\n",
       "    <tr>\n",
       "      <th>Rhode Island</th>\n",
       "      <td>0.0</td>\n",
       "      <td>1.0</td>\n",
       "    </tr>\n",
       "    <tr>\n",
       "      <th>District of Columbia</th>\n",
       "      <td>0.0</td>\n",
       "      <td>1.0</td>\n",
       "    </tr>\n",
       "    <tr>\n",
       "      <th>Nevada</th>\n",
       "      <td>0.0</td>\n",
       "      <td>1.0</td>\n",
       "    </tr>\n",
       "    <tr>\n",
       "      <th>Montana</th>\n",
       "      <td>0.0</td>\n",
       "      <td>1.0</td>\n",
       "    </tr>\n",
       "    <tr>\n",
       "      <th>Arkansas</th>\n",
       "      <td>0.0</td>\n",
       "      <td>6.0</td>\n",
       "    </tr>\n",
       "    <tr>\n",
       "      <th>Kansas</th>\n",
       "      <td>0.0</td>\n",
       "      <td>2.0</td>\n",
       "    </tr>\n",
       "  </tbody>\n",
       "</table>\n",
       "</div>"
      ],
      "text/plain": [
       "newStatus             Open  closed\n",
       "State                             \n",
       "California            47.0   173.0\n",
       "Georgia               35.0   253.0\n",
       "Florida               35.0   205.0\n",
       "Tennessee             33.0   110.0\n",
       "Illinois              23.0   141.0\n",
       "Texas                 18.0    53.0\n",
       "Michigan              18.0    97.0\n",
       "Washington            18.0    80.0\n",
       "New Jersey            17.0    58.0\n",
       "Pennsylvania          14.0   116.0\n",
       "Maryland              13.0    65.0\n",
       "Colorado              12.0    68.0\n",
       "Oregon                10.0    39.0\n",
       "Massachusetts         10.0    51.0\n",
       "Mississippi            9.0    30.0\n",
       "Virginia               8.0    52.0\n",
       "Indiana                8.0    51.0\n",
       "Utah                   6.0    16.0\n",
       "Alabama                4.0    22.0\n",
       "New Mexico             3.0    12.0\n",
       "New Hampshire          3.0     9.0\n",
       "West Virginia          3.0     8.0\n",
       "Delaware               3.0     9.0\n",
       "Arizona                2.0    18.0\n",
       "South Carolina         2.0    16.0\n",
       "Connecticut            2.0    10.0\n",
       "Minnesota              2.0    31.0\n",
       "Maine                  2.0     3.0\n",
       "Missouri               1.0     3.0\n",
       "District Of Columbia   1.0    15.0\n",
       "Vermont                1.0     2.0\n",
       "Louisiana              0.0    13.0\n",
       "Kentucky               0.0     7.0\n",
       "New York               0.0     6.0\n",
       "North Carolina         0.0     3.0\n",
       "Ohio                   0.0     3.0\n",
       "Iowa                   0.0     1.0\n",
       "Rhode Island           0.0     1.0\n",
       "District of Columbia   0.0     1.0\n",
       "Nevada                 0.0     1.0\n",
       "Montana                0.0     1.0\n",
       "Arkansas               0.0     6.0\n",
       "Kansas                 0.0     2.0"
      ]
     },
     "execution_count": 78,
     "metadata": {},
     "output_type": "execute_result"
    }
   ],
   "source": [
    "unresolved_data"
   ]
  },
  {
   "cell_type": "code",
   "execution_count": 79,
   "id": "f079d4dc",
   "metadata": {},
   "outputs": [],
   "source": [
    "unresolved_data['unresolved_cmp_prct']=unresolved_data['Open']/unresolved_data['Open'].sum()*100"
   ]
  },
  {
   "cell_type": "code",
   "execution_count": 80,
   "id": "ca7c30fc",
   "metadata": {},
   "outputs": [
    {
     "data": {
      "text/html": [
       "<div>\n",
       "<style scoped>\n",
       "    .dataframe tbody tr th:only-of-type {\n",
       "        vertical-align: middle;\n",
       "    }\n",
       "\n",
       "    .dataframe tbody tr th {\n",
       "        vertical-align: top;\n",
       "    }\n",
       "\n",
       "    .dataframe thead th {\n",
       "        text-align: right;\n",
       "    }\n",
       "</style>\n",
       "<table border=\"1\" class=\"dataframe\">\n",
       "  <thead>\n",
       "    <tr style=\"text-align: right;\">\n",
       "      <th>newStatus</th>\n",
       "      <th>Open</th>\n",
       "      <th>closed</th>\n",
       "      <th>unresolved_cmp_prct</th>\n",
       "    </tr>\n",
       "    <tr>\n",
       "      <th>State</th>\n",
       "      <th></th>\n",
       "      <th></th>\n",
       "      <th></th>\n",
       "    </tr>\n",
       "  </thead>\n",
       "  <tbody>\n",
       "    <tr>\n",
       "      <th>California</th>\n",
       "      <td>47.0</td>\n",
       "      <td>173.0</td>\n",
       "      <td>12.947658</td>\n",
       "    </tr>\n",
       "    <tr>\n",
       "      <th>Georgia</th>\n",
       "      <td>35.0</td>\n",
       "      <td>253.0</td>\n",
       "      <td>9.641873</td>\n",
       "    </tr>\n",
       "    <tr>\n",
       "      <th>Florida</th>\n",
       "      <td>35.0</td>\n",
       "      <td>205.0</td>\n",
       "      <td>9.641873</td>\n",
       "    </tr>\n",
       "    <tr>\n",
       "      <th>Tennessee</th>\n",
       "      <td>33.0</td>\n",
       "      <td>110.0</td>\n",
       "      <td>9.090909</td>\n",
       "    </tr>\n",
       "    <tr>\n",
       "      <th>Illinois</th>\n",
       "      <td>23.0</td>\n",
       "      <td>141.0</td>\n",
       "      <td>6.336088</td>\n",
       "    </tr>\n",
       "    <tr>\n",
       "      <th>Texas</th>\n",
       "      <td>18.0</td>\n",
       "      <td>53.0</td>\n",
       "      <td>4.958678</td>\n",
       "    </tr>\n",
       "    <tr>\n",
       "      <th>Michigan</th>\n",
       "      <td>18.0</td>\n",
       "      <td>97.0</td>\n",
       "      <td>4.958678</td>\n",
       "    </tr>\n",
       "    <tr>\n",
       "      <th>Washington</th>\n",
       "      <td>18.0</td>\n",
       "      <td>80.0</td>\n",
       "      <td>4.958678</td>\n",
       "    </tr>\n",
       "    <tr>\n",
       "      <th>New Jersey</th>\n",
       "      <td>17.0</td>\n",
       "      <td>58.0</td>\n",
       "      <td>4.683196</td>\n",
       "    </tr>\n",
       "    <tr>\n",
       "      <th>Pennsylvania</th>\n",
       "      <td>14.0</td>\n",
       "      <td>116.0</td>\n",
       "      <td>3.856749</td>\n",
       "    </tr>\n",
       "    <tr>\n",
       "      <th>Maryland</th>\n",
       "      <td>13.0</td>\n",
       "      <td>65.0</td>\n",
       "      <td>3.581267</td>\n",
       "    </tr>\n",
       "    <tr>\n",
       "      <th>Colorado</th>\n",
       "      <td>12.0</td>\n",
       "      <td>68.0</td>\n",
       "      <td>3.305785</td>\n",
       "    </tr>\n",
       "    <tr>\n",
       "      <th>Oregon</th>\n",
       "      <td>10.0</td>\n",
       "      <td>39.0</td>\n",
       "      <td>2.754821</td>\n",
       "    </tr>\n",
       "    <tr>\n",
       "      <th>Massachusetts</th>\n",
       "      <td>10.0</td>\n",
       "      <td>51.0</td>\n",
       "      <td>2.754821</td>\n",
       "    </tr>\n",
       "    <tr>\n",
       "      <th>Mississippi</th>\n",
       "      <td>9.0</td>\n",
       "      <td>30.0</td>\n",
       "      <td>2.479339</td>\n",
       "    </tr>\n",
       "    <tr>\n",
       "      <th>Virginia</th>\n",
       "      <td>8.0</td>\n",
       "      <td>52.0</td>\n",
       "      <td>2.203857</td>\n",
       "    </tr>\n",
       "    <tr>\n",
       "      <th>Indiana</th>\n",
       "      <td>8.0</td>\n",
       "      <td>51.0</td>\n",
       "      <td>2.203857</td>\n",
       "    </tr>\n",
       "    <tr>\n",
       "      <th>Utah</th>\n",
       "      <td>6.0</td>\n",
       "      <td>16.0</td>\n",
       "      <td>1.652893</td>\n",
       "    </tr>\n",
       "    <tr>\n",
       "      <th>Alabama</th>\n",
       "      <td>4.0</td>\n",
       "      <td>22.0</td>\n",
       "      <td>1.101928</td>\n",
       "    </tr>\n",
       "    <tr>\n",
       "      <th>New Mexico</th>\n",
       "      <td>3.0</td>\n",
       "      <td>12.0</td>\n",
       "      <td>0.826446</td>\n",
       "    </tr>\n",
       "    <tr>\n",
       "      <th>New Hampshire</th>\n",
       "      <td>3.0</td>\n",
       "      <td>9.0</td>\n",
       "      <td>0.826446</td>\n",
       "    </tr>\n",
       "    <tr>\n",
       "      <th>West Virginia</th>\n",
       "      <td>3.0</td>\n",
       "      <td>8.0</td>\n",
       "      <td>0.826446</td>\n",
       "    </tr>\n",
       "    <tr>\n",
       "      <th>Delaware</th>\n",
       "      <td>3.0</td>\n",
       "      <td>9.0</td>\n",
       "      <td>0.826446</td>\n",
       "    </tr>\n",
       "    <tr>\n",
       "      <th>Arizona</th>\n",
       "      <td>2.0</td>\n",
       "      <td>18.0</td>\n",
       "      <td>0.550964</td>\n",
       "    </tr>\n",
       "    <tr>\n",
       "      <th>South Carolina</th>\n",
       "      <td>2.0</td>\n",
       "      <td>16.0</td>\n",
       "      <td>0.550964</td>\n",
       "    </tr>\n",
       "    <tr>\n",
       "      <th>Connecticut</th>\n",
       "      <td>2.0</td>\n",
       "      <td>10.0</td>\n",
       "      <td>0.550964</td>\n",
       "    </tr>\n",
       "    <tr>\n",
       "      <th>Minnesota</th>\n",
       "      <td>2.0</td>\n",
       "      <td>31.0</td>\n",
       "      <td>0.550964</td>\n",
       "    </tr>\n",
       "    <tr>\n",
       "      <th>Maine</th>\n",
       "      <td>2.0</td>\n",
       "      <td>3.0</td>\n",
       "      <td>0.550964</td>\n",
       "    </tr>\n",
       "    <tr>\n",
       "      <th>Missouri</th>\n",
       "      <td>1.0</td>\n",
       "      <td>3.0</td>\n",
       "      <td>0.275482</td>\n",
       "    </tr>\n",
       "    <tr>\n",
       "      <th>District Of Columbia</th>\n",
       "      <td>1.0</td>\n",
       "      <td>15.0</td>\n",
       "      <td>0.275482</td>\n",
       "    </tr>\n",
       "    <tr>\n",
       "      <th>Vermont</th>\n",
       "      <td>1.0</td>\n",
       "      <td>2.0</td>\n",
       "      <td>0.275482</td>\n",
       "    </tr>\n",
       "    <tr>\n",
       "      <th>Louisiana</th>\n",
       "      <td>0.0</td>\n",
       "      <td>13.0</td>\n",
       "      <td>0.000000</td>\n",
       "    </tr>\n",
       "    <tr>\n",
       "      <th>Kentucky</th>\n",
       "      <td>0.0</td>\n",
       "      <td>7.0</td>\n",
       "      <td>0.000000</td>\n",
       "    </tr>\n",
       "    <tr>\n",
       "      <th>New York</th>\n",
       "      <td>0.0</td>\n",
       "      <td>6.0</td>\n",
       "      <td>0.000000</td>\n",
       "    </tr>\n",
       "    <tr>\n",
       "      <th>North Carolina</th>\n",
       "      <td>0.0</td>\n",
       "      <td>3.0</td>\n",
       "      <td>0.000000</td>\n",
       "    </tr>\n",
       "    <tr>\n",
       "      <th>Ohio</th>\n",
       "      <td>0.0</td>\n",
       "      <td>3.0</td>\n",
       "      <td>0.000000</td>\n",
       "    </tr>\n",
       "    <tr>\n",
       "      <th>Iowa</th>\n",
       "      <td>0.0</td>\n",
       "      <td>1.0</td>\n",
       "      <td>0.000000</td>\n",
       "    </tr>\n",
       "    <tr>\n",
       "      <th>Rhode Island</th>\n",
       "      <td>0.0</td>\n",
       "      <td>1.0</td>\n",
       "      <td>0.000000</td>\n",
       "    </tr>\n",
       "    <tr>\n",
       "      <th>District of Columbia</th>\n",
       "      <td>0.0</td>\n",
       "      <td>1.0</td>\n",
       "      <td>0.000000</td>\n",
       "    </tr>\n",
       "    <tr>\n",
       "      <th>Nevada</th>\n",
       "      <td>0.0</td>\n",
       "      <td>1.0</td>\n",
       "      <td>0.000000</td>\n",
       "    </tr>\n",
       "    <tr>\n",
       "      <th>Montana</th>\n",
       "      <td>0.0</td>\n",
       "      <td>1.0</td>\n",
       "      <td>0.000000</td>\n",
       "    </tr>\n",
       "    <tr>\n",
       "      <th>Arkansas</th>\n",
       "      <td>0.0</td>\n",
       "      <td>6.0</td>\n",
       "      <td>0.000000</td>\n",
       "    </tr>\n",
       "    <tr>\n",
       "      <th>Kansas</th>\n",
       "      <td>0.0</td>\n",
       "      <td>2.0</td>\n",
       "      <td>0.000000</td>\n",
       "    </tr>\n",
       "  </tbody>\n",
       "</table>\n",
       "</div>"
      ],
      "text/plain": [
       "newStatus             Open  closed  unresolved_cmp_prct\n",
       "State                                                  \n",
       "California            47.0   173.0            12.947658\n",
       "Georgia               35.0   253.0             9.641873\n",
       "Florida               35.0   205.0             9.641873\n",
       "Tennessee             33.0   110.0             9.090909\n",
       "Illinois              23.0   141.0             6.336088\n",
       "Texas                 18.0    53.0             4.958678\n",
       "Michigan              18.0    97.0             4.958678\n",
       "Washington            18.0    80.0             4.958678\n",
       "New Jersey            17.0    58.0             4.683196\n",
       "Pennsylvania          14.0   116.0             3.856749\n",
       "Maryland              13.0    65.0             3.581267\n",
       "Colorado              12.0    68.0             3.305785\n",
       "Oregon                10.0    39.0             2.754821\n",
       "Massachusetts         10.0    51.0             2.754821\n",
       "Mississippi            9.0    30.0             2.479339\n",
       "Virginia               8.0    52.0             2.203857\n",
       "Indiana                8.0    51.0             2.203857\n",
       "Utah                   6.0    16.0             1.652893\n",
       "Alabama                4.0    22.0             1.101928\n",
       "New Mexico             3.0    12.0             0.826446\n",
       "New Hampshire          3.0     9.0             0.826446\n",
       "West Virginia          3.0     8.0             0.826446\n",
       "Delaware               3.0     9.0             0.826446\n",
       "Arizona                2.0    18.0             0.550964\n",
       "South Carolina         2.0    16.0             0.550964\n",
       "Connecticut            2.0    10.0             0.550964\n",
       "Minnesota              2.0    31.0             0.550964\n",
       "Maine                  2.0     3.0             0.550964\n",
       "Missouri               1.0     3.0             0.275482\n",
       "District Of Columbia   1.0    15.0             0.275482\n",
       "Vermont                1.0     2.0             0.275482\n",
       "Louisiana              0.0    13.0             0.000000\n",
       "Kentucky               0.0     7.0             0.000000\n",
       "New York               0.0     6.0             0.000000\n",
       "North Carolina         0.0     3.0             0.000000\n",
       "Ohio                   0.0     3.0             0.000000\n",
       "Iowa                   0.0     1.0             0.000000\n",
       "Rhode Island           0.0     1.0             0.000000\n",
       "District of Columbia   0.0     1.0             0.000000\n",
       "Nevada                 0.0     1.0             0.000000\n",
       "Montana                0.0     1.0             0.000000\n",
       "Arkansas               0.0     6.0             0.000000\n",
       "Kansas                 0.0     2.0             0.000000"
      ]
     },
     "execution_count": 80,
     "metadata": {},
     "output_type": "execute_result"
    }
   ],
   "source": [
    "unresolved_data"
   ]
  },
  {
   "cell_type": "code",
   "execution_count": 81,
   "id": "09994894",
   "metadata": {},
   "outputs": [
    {
     "data": {
      "text/plain": [
       "<AxesSubplot:xlabel='State'>"
      ]
     },
     "execution_count": 81,
     "metadata": {},
     "output_type": "execute_result"
    },
    {
     "data": {
      "image/png": "[encoded data removed]",
      "text/plain": [
       "<Figure size 432x288 with 1 Axes>"
      ]
     },
     "metadata": {
      "needs_background": "light"
     },
     "output_type": "display_data"
    }
   ],
   "source": [
    "unresolved_data.plot()"
   ]
  },
  {
   "cell_type": "code",
   "execution_count": 82,
   "id": "968f983b",
   "metadata": {},
   "outputs": [],
   "source": [
    "#Provide the percentage of complaints resolved till date, which were received through the Internet and customer care calls."
   ]
  },
  {
   "cell_type": "code",
   "execution_count": 88,
   "id": "85ab3c7f",
   "metadata": {},
   "outputs": [],
   "source": [
    "resolved_data=df.groupby(['Received Via','newStatus']).size().unstack().fillna(0)"
   ]
  },
  {
   "cell_type": "code",
   "execution_count": 90,
   "id": "99b26163",
   "metadata": {},
   "outputs": [],
   "source": [
    "resolved_data['resolved']=resolved_data['closed']/resolved_data['closed'].sum()*100"
   ]
  },
  {
   "cell_type": "code",
   "execution_count": 92,
   "id": "49c377ac",
   "metadata": {},
   "outputs": [
    {
     "data": {
      "text/plain": [
       "<AxesSubplot:xlabel='Received Via'>"
      ]
     },
     "execution_count": 92,
     "metadata": {},
     "output_type": "execute_result"
    },
    {
     "data": {
      "image/png": "[encoded data removed]",
      "text/plain": [
       "<Figure size 720x720 with 1 Axes>"
      ]
     },
     "metadata": {
      "needs_background": "light"
     },
     "output_type": "display_data"
    }
   ],
   "source": [
    "resolved_data.plot(kind='bar',figsize=(10,10))"
   ]
  },
  {
   "cell_type": "code",
   "execution_count": null,
   "id": "f73842be",
   "metadata": {},
   "outputs": [],
   "source": []
  }
 ],
 "metadata": {
  "kernelspec": {
   "display_name": "Python 3",
   "language": "python",
   "name": "python3"
  },
  "language_info": {
   "codemirror_mode": {
    "name": "ipython",
    "version": 3
   },
   "file_extension": ".py",
   "mimetype": "text/x-python",
   "name": "python",
   "nbconvert_exporter": "python",
   "pygments_lexer": "ipython3",
   "version": "3.8.8"
  }
 },
 "nbformat": 4,
 "nbformat_minor": 5
}
